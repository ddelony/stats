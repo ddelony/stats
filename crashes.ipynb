{
 "cells": [
  {
   "cell_type": "markdown",
   "id": "77a5a538-46b6-4e1b-ab01-03d96ab1cc61",
   "metadata": {},
   "source": [
    "# Exploring the Seaborn accidents database"
   ]
  },
  {
   "cell_type": "markdown",
   "id": "b3de6b4f-d445-47d8-a4a5-def1e0da0e8f",
   "metadata": {},
   "source": [
    "Setting up some preliminaries, importing NumPy and friends."
   ]
  },
  {
   "cell_type": "code",
   "execution_count": 1,
   "id": "56ee1db5-1e6a-4c76-b0b1-153d6c834975",
   "metadata": {},
   "outputs": [],
   "source": [
    "import numpy as np\n",
    "import seaborn as sns\n",
    "import pandas as pd"
   ]
  },
  {
   "cell_type": "markdown",
   "id": "0e7c5647-4256-4c57-aed1-3d2778677ba7",
   "metadata": {},
   "source": [
    "Turn on matplotlib inline so our graphs display in this notebook."
   ]
  },
  {
   "cell_type": "code",
   "execution_count": 2,
   "id": "8d1f8e84-cc0c-4220-97dd-9c504156c2db",
   "metadata": {},
   "outputs": [],
   "source": [
    "%matplotlib inline"
   ]
  },
  {
   "cell_type": "code",
   "execution_count": 3,
   "id": "f0c56136-0002-415b-93f8-970327474644",
   "metadata": {},
   "outputs": [
    {
     "data": {
      "text/plain": [
       "['anagrams',\n",
       " 'anscombe',\n",
       " 'attention',\n",
       " 'brain_networks',\n",
       " 'car_crashes',\n",
       " 'diamonds',\n",
       " 'dots',\n",
       " 'dowjones',\n",
       " 'exercise',\n",
       " 'flights',\n",
       " 'fmri',\n",
       " 'geyser',\n",
       " 'glue',\n",
       " 'healthexp',\n",
       " 'iris',\n",
       " 'mpg',\n",
       " 'penguins',\n",
       " 'planets',\n",
       " 'seaice',\n",
       " 'taxis',\n",
       " 'tips',\n",
       " 'titanic']"
      ]
     },
     "execution_count": 3,
     "metadata": {},
     "output_type": "execute_result"
    }
   ],
   "source": [
    "sns.get_dataset_names()"
   ]
  },
  {
   "cell_type": "code",
   "execution_count": 4,
   "id": "0336f269-9509-4305-b730-50f4b8359bf6",
   "metadata": {},
   "outputs": [],
   "source": [
    "crashes = sns.load_dataset('car_crashes')"
   ]
  },
  {
   "cell_type": "code",
   "execution_count": 5,
   "id": "2d9daced-5fdd-46a6-ab42-2365a3904c58",
   "metadata": {},
   "outputs": [
    {
     "data": {
      "text/html": [
       "<div>\n",
       "<style scoped>\n",
       "    .dataframe tbody tr th:only-of-type {\n",
       "        vertical-align: middle;\n",
       "    }\n",
       "\n",
       "    .dataframe tbody tr th {\n",
       "        vertical-align: top;\n",
       "    }\n",
       "\n",
       "    .dataframe thead th {\n",
       "        text-align: right;\n",
       "    }\n",
       "</style>\n",
       "<table border=\"1\" class=\"dataframe\">\n",
       "  <thead>\n",
       "    <tr style=\"text-align: right;\">\n",
       "      <th></th>\n",
       "      <th>total</th>\n",
       "      <th>speeding</th>\n",
       "      <th>alcohol</th>\n",
       "      <th>not_distracted</th>\n",
       "      <th>no_previous</th>\n",
       "      <th>ins_premium</th>\n",
       "      <th>ins_losses</th>\n",
       "      <th>abbrev</th>\n",
       "    </tr>\n",
       "  </thead>\n",
       "  <tbody>\n",
       "    <tr>\n",
       "      <th>0</th>\n",
       "      <td>18.8</td>\n",
       "      <td>7.332</td>\n",
       "      <td>5.640</td>\n",
       "      <td>18.048</td>\n",
       "      <td>15.040</td>\n",
       "      <td>784.55</td>\n",
       "      <td>145.08</td>\n",
       "      <td>AL</td>\n",
       "    </tr>\n",
       "    <tr>\n",
       "      <th>1</th>\n",
       "      <td>18.1</td>\n",
       "      <td>7.421</td>\n",
       "      <td>4.525</td>\n",
       "      <td>16.290</td>\n",
       "      <td>17.014</td>\n",
       "      <td>1053.48</td>\n",
       "      <td>133.93</td>\n",
       "      <td>AK</td>\n",
       "    </tr>\n",
       "    <tr>\n",
       "      <th>2</th>\n",
       "      <td>18.6</td>\n",
       "      <td>6.510</td>\n",
       "      <td>5.208</td>\n",
       "      <td>15.624</td>\n",
       "      <td>17.856</td>\n",
       "      <td>899.47</td>\n",
       "      <td>110.35</td>\n",
       "      <td>AZ</td>\n",
       "    </tr>\n",
       "    <tr>\n",
       "      <th>3</th>\n",
       "      <td>22.4</td>\n",
       "      <td>4.032</td>\n",
       "      <td>5.824</td>\n",
       "      <td>21.056</td>\n",
       "      <td>21.280</td>\n",
       "      <td>827.34</td>\n",
       "      <td>142.39</td>\n",
       "      <td>AR</td>\n",
       "    </tr>\n",
       "    <tr>\n",
       "      <th>4</th>\n",
       "      <td>12.0</td>\n",
       "      <td>4.200</td>\n",
       "      <td>3.360</td>\n",
       "      <td>10.920</td>\n",
       "      <td>10.680</td>\n",
       "      <td>878.41</td>\n",
       "      <td>165.63</td>\n",
       "      <td>CA</td>\n",
       "    </tr>\n",
       "  </tbody>\n",
       "</table>\n",
       "</div>"
      ],
      "text/plain": [
       "   total  speeding  alcohol  not_distracted  no_previous  ins_premium  \\\n",
       "0   18.8     7.332    5.640          18.048       15.040       784.55   \n",
       "1   18.1     7.421    4.525          16.290       17.014      1053.48   \n",
       "2   18.6     6.510    5.208          15.624       17.856       899.47   \n",
       "3   22.4     4.032    5.824          21.056       21.280       827.34   \n",
       "4   12.0     4.200    3.360          10.920       10.680       878.41   \n",
       "\n",
       "   ins_losses abbrev  \n",
       "0      145.08     AL  \n",
       "1      133.93     AK  \n",
       "2      110.35     AZ  \n",
       "3      142.39     AR  \n",
       "4      165.63     CA  "
      ]
     },
     "execution_count": 5,
     "metadata": {},
     "output_type": "execute_result"
    }
   ],
   "source": [
    "crashes.head()"
   ]
  },
  {
   "cell_type": "markdown",
   "id": "5ed06099-7f2c-48d3-a0b6-bfb0e49789e2",
   "metadata": {},
   "source": [
    "Let's look at summary stats:"
   ]
  },
  {
   "cell_type": "code",
   "execution_count": 6,
   "id": "4e5cd168-6ebc-4a6c-a6c9-e7725269189a",
   "metadata": {},
   "outputs": [
    {
     "data": {
      "text/html": [
       "<div>\n",
       "<style scoped>\n",
       "    .dataframe tbody tr th:only-of-type {\n",
       "        vertical-align: middle;\n",
       "    }\n",
       "\n",
       "    .dataframe tbody tr th {\n",
       "        vertical-align: top;\n",
       "    }\n",
       "\n",
       "    .dataframe thead th {\n",
       "        text-align: right;\n",
       "    }\n",
       "</style>\n",
       "<table border=\"1\" class=\"dataframe\">\n",
       "  <thead>\n",
       "    <tr style=\"text-align: right;\">\n",
       "      <th></th>\n",
       "      <th>total</th>\n",
       "      <th>speeding</th>\n",
       "      <th>alcohol</th>\n",
       "      <th>not_distracted</th>\n",
       "      <th>no_previous</th>\n",
       "      <th>ins_premium</th>\n",
       "      <th>ins_losses</th>\n",
       "    </tr>\n",
       "  </thead>\n",
       "  <tbody>\n",
       "    <tr>\n",
       "      <th>count</th>\n",
       "      <td>51.000000</td>\n",
       "      <td>51.000000</td>\n",
       "      <td>51.000000</td>\n",
       "      <td>51.000000</td>\n",
       "      <td>51.000000</td>\n",
       "      <td>51.000000</td>\n",
       "      <td>51.000000</td>\n",
       "    </tr>\n",
       "    <tr>\n",
       "      <th>mean</th>\n",
       "      <td>15.790196</td>\n",
       "      <td>4.998196</td>\n",
       "      <td>4.886784</td>\n",
       "      <td>13.573176</td>\n",
       "      <td>14.004882</td>\n",
       "      <td>886.957647</td>\n",
       "      <td>134.493137</td>\n",
       "    </tr>\n",
       "    <tr>\n",
       "      <th>std</th>\n",
       "      <td>4.122002</td>\n",
       "      <td>2.017747</td>\n",
       "      <td>1.729133</td>\n",
       "      <td>4.508977</td>\n",
       "      <td>3.764672</td>\n",
       "      <td>178.296285</td>\n",
       "      <td>24.835922</td>\n",
       "    </tr>\n",
       "    <tr>\n",
       "      <th>min</th>\n",
       "      <td>5.900000</td>\n",
       "      <td>1.792000</td>\n",
       "      <td>1.593000</td>\n",
       "      <td>1.760000</td>\n",
       "      <td>5.900000</td>\n",
       "      <td>641.960000</td>\n",
       "      <td>82.750000</td>\n",
       "    </tr>\n",
       "    <tr>\n",
       "      <th>25%</th>\n",
       "      <td>12.750000</td>\n",
       "      <td>3.766500</td>\n",
       "      <td>3.894000</td>\n",
       "      <td>10.478000</td>\n",
       "      <td>11.348000</td>\n",
       "      <td>768.430000</td>\n",
       "      <td>114.645000</td>\n",
       "    </tr>\n",
       "    <tr>\n",
       "      <th>50%</th>\n",
       "      <td>15.600000</td>\n",
       "      <td>4.608000</td>\n",
       "      <td>4.554000</td>\n",
       "      <td>13.857000</td>\n",
       "      <td>13.775000</td>\n",
       "      <td>858.970000</td>\n",
       "      <td>136.050000</td>\n",
       "    </tr>\n",
       "    <tr>\n",
       "      <th>75%</th>\n",
       "      <td>18.500000</td>\n",
       "      <td>6.439000</td>\n",
       "      <td>5.604000</td>\n",
       "      <td>16.140000</td>\n",
       "      <td>16.755000</td>\n",
       "      <td>1007.945000</td>\n",
       "      <td>151.870000</td>\n",
       "    </tr>\n",
       "    <tr>\n",
       "      <th>max</th>\n",
       "      <td>23.900000</td>\n",
       "      <td>9.450000</td>\n",
       "      <td>10.038000</td>\n",
       "      <td>23.661000</td>\n",
       "      <td>21.280000</td>\n",
       "      <td>1301.520000</td>\n",
       "      <td>194.780000</td>\n",
       "    </tr>\n",
       "  </tbody>\n",
       "</table>\n",
       "</div>"
      ],
      "text/plain": [
       "           total   speeding    alcohol  not_distracted  no_previous  \\\n",
       "count  51.000000  51.000000  51.000000       51.000000    51.000000   \n",
       "mean   15.790196   4.998196   4.886784       13.573176    14.004882   \n",
       "std     4.122002   2.017747   1.729133        4.508977     3.764672   \n",
       "min     5.900000   1.792000   1.593000        1.760000     5.900000   \n",
       "25%    12.750000   3.766500   3.894000       10.478000    11.348000   \n",
       "50%    15.600000   4.608000   4.554000       13.857000    13.775000   \n",
       "75%    18.500000   6.439000   5.604000       16.140000    16.755000   \n",
       "max    23.900000   9.450000  10.038000       23.661000    21.280000   \n",
       "\n",
       "       ins_premium  ins_losses  \n",
       "count    51.000000   51.000000  \n",
       "mean    886.957647  134.493137  \n",
       "std     178.296285   24.835922  \n",
       "min     641.960000   82.750000  \n",
       "25%     768.430000  114.645000  \n",
       "50%     858.970000  136.050000  \n",
       "75%    1007.945000  151.870000  \n",
       "max    1301.520000  194.780000  "
      ]
     },
     "execution_count": 6,
     "metadata": {},
     "output_type": "execute_result"
    }
   ],
   "source": [
    "crashes.describe()"
   ]
  },
  {
   "cell_type": "code",
   "execution_count": 22,
   "id": "29fa7d05-2176-493a-a090-941033983719",
   "metadata": {},
   "outputs": [
    {
     "data": {
      "text/plain": [
       "np.float64(805.2999999999998)"
      ]
     },
     "execution_count": 22,
     "metadata": {},
     "output_type": "execute_result"
    }
   ],
   "source": [
    "crashes['total'].sum()"
   ]
  },
  {
   "cell_type": "markdown",
   "id": "3d338626-89ab-48a0-a700-c4abbe7a3c8f",
   "metadata": {},
   "source": [
    "There are 805 crashes in this dataset. (How do you have .30 of a crash?)"
   ]
  },
  {
   "cell_type": "code",
   "execution_count": 7,
   "id": "2d4ff02f-0304-4472-99a4-b53c6fd8b09f",
   "metadata": {},
   "outputs": [
    {
     "data": {
      "text/plain": [
       "<seaborn.axisgrid.FacetGrid at 0x7f3633c1a3c0>"
      ]
     },
     "execution_count": 7,
     "metadata": {},
     "output_type": "execute_result"
    },
    {
     "data": {
      "image/png": "[encoded data removed]",
      "text/plain": [
       "<Figure size 500x500 with 1 Axes>"
      ]
     },
     "metadata": {},
     "output_type": "display_data"
    }
   ],
   "source": [
    "sns.displot(x='total',data=crashes)"
   ]
  },
  {
   "cell_type": "markdown",
   "id": "64af8c58-3031-487c-93da-2dc3302614d1",
   "metadata": {},
   "source": [
    "The total number of crashes appear to be almost normally distributed. Let's see if it is with the scipy normaltest function with alpha = .05."
   ]
  },
  {
   "cell_type": "code",
   "execution_count": 8,
   "id": "ae4cb6ca-2b7d-455a-b660-f7b0829a6fb1",
   "metadata": {},
   "outputs": [
    {
     "data": {
      "text/plain": [
       "NormaltestResult(statistic=np.float64(0.19732083699768993), pvalue=np.float64(0.9060503337210413))"
      ]
     },
     "execution_count": 8,
     "metadata": {},
     "output_type": "execute_result"
    }
   ],
   "source": [
    "from scipy.stats import normaltest\n",
    "total_crashes = crashes['total'].to_numpy()\n",
    "normaltest(total_crashes)"
   ]
  },
  {
   "cell_type": "markdown",
   "id": "6d7070aa-3f26-49ee-8027-af47903a56ce",
   "metadata": {},
   "source": [
    "p > 0.5, which supports the null hypothesis that the number of crashes are normally distributed."
   ]
  },
  {
   "cell_type": "markdown",
   "id": "cef60dd9-e76e-45e0-b992-36e90d7be78d",
   "metadata": {},
   "source": [
    "Let's calculate the percentage of alcohol-related crashes as part of the total."
   ]
  },
  {
   "cell_type": "markdown",
   "id": "28f28b08-2614-4c8c-8175-684e6efc8fbe",
   "metadata": {},
   "source": [
    "Let's see if there's a correlation between alcohol and the total crashes."
   ]
  },
  {
   "cell_type": "code",
   "execution_count": 9,
   "id": "f6ad7e4e-6d35-43e3-b0de-6e43ea9cc57c",
   "metadata": {},
   "outputs": [
    {
     "data": {
      "text/plain": [
       "np.float64(0.3094821805538309)"
      ]
     },
     "execution_count": 9,
     "metadata": {},
     "output_type": "execute_result"
    }
   ],
   "source": [
    "crashes['alcohol'].sum() / crashes['total'].sum()"
   ]
  },
  {
   "cell_type": "markdown",
   "id": "edfc5b1a-ded7-4666-99a3-d9bbee799938",
   "metadata": {},
   "source": [
    "So approximately 31% of crashes are alcohol-related."
   ]
  },
  {
   "cell_type": "code",
   "execution_count": 10,
   "id": "b6ed28d6-3541-4f16-bb01-5d7a920388a8",
   "metadata": {},
   "outputs": [
    {
     "data": {
      "text/plain": [
       "<seaborn.axisgrid.FacetGrid at 0x7f3633b5ad50>"
      ]
     },
     "execution_count": 10,
     "metadata": {},
     "output_type": "execute_result"
    },
    {
     "data": {
      "image/png": "[encoded data removed]",
      "text/plain": [
       "<Figure size 500x500 with 1 Axes>"
      ]
     },
     "metadata": {},
     "output_type": "display_data"
    }
   ],
   "source": [
    "sns.relplot(x='total',y='alcohol',data=crashes)"
   ]
  },
  {
   "cell_type": "markdown",
   "id": "b4f46339-7b08-464e-91be-20263e87fb66",
   "metadata": {},
   "source": [
    "There seems to be a linear relation, a positive linear correlation. Let's plot a regression line."
   ]
  },
  {
   "cell_type": "code",
   "execution_count": 11,
   "id": "83c17412-fa38-492e-95b6-cf011d9bae74",
   "metadata": {},
   "outputs": [
    {
     "data": {
      "text/plain": [
       "<Axes: xlabel='total', ylabel='alcohol'>"
      ]
     },
     "execution_count": 11,
     "metadata": {},
     "output_type": "execute_result"
    },
    {
     "data": {
      "image/png": "[encoded data removed]",
      "text/plain": [
       "<Figure size 640x480 with 1 Axes>"
      ]
     },
     "metadata": {},
     "output_type": "display_data"
    }
   ],
   "source": [
    "sns.regplot(x='total',y='alcohol',data=crashes)"
   ]
  },
  {
   "cell_type": "markdown",
   "id": "2f78edb3-1848-44d7-91fd-818b05b67ef2",
   "metadata": {},
   "source": [
    "Let's test this more formally and get the coefficients."
   ]
  },
  {
   "cell_type": "code",
   "execution_count": 12,
   "id": "2991fa62-31ff-40c4-9bec-38d98fbb77a4",
   "metadata": {},
   "outputs": [
    {
     "name": "stdout",
     "output_type": "stream",
     "text": [
      "                            OLS Regression Results                            \n",
      "==============================================================================\n",
      "Dep. Variable:                      y   R-squared:                       0.727\n",
      "Model:                            OLS   Adj. R-squared:                  0.721\n",
      "Method:                 Least Squares   F-statistic:                     130.5\n",
      "Date:                Thu, 02 Jan 2025   Prob (F-statistic):           2.04e-15\n",
      "Time:                        14:04:30   Log-Likelihood:                -66.688\n",
      "No. Observations:                  51   AIC:                             137.4\n",
      "Df Residuals:                      49   BIC:                             141.2\n",
      "Df Model:                           1                                         \n",
      "Covariance Type:            nonrobust                                         \n",
      "==============================================================================\n",
      "                 coef    std err          t      P>|t|      [0.025      0.975]\n",
      "------------------------------------------------------------------------------\n",
      "const         -0.7608      0.511     -1.490      0.143      -1.787       0.266\n",
      "x1             0.3577      0.031     11.422      0.000       0.295       0.421\n",
      "==============================================================================\n",
      "Omnibus:                        5.985   Durbin-Watson:                   1.670\n",
      "Prob(Omnibus):                  0.050   Jarque-Bera (JB):                4.942\n",
      "Skew:                           0.613   Prob(JB):                       0.0845\n",
      "Kurtosis:                       3.908   Cond. No.                         65.4\n",
      "==============================================================================\n",
      "\n",
      "Notes:\n",
      "[1] Standard Errors assume that the covariance matrix of the errors is correctly specified.\n"
     ]
    }
   ],
   "source": [
    "import statsmodels.api as sm\n",
    "total = crashes['total'].to_numpy()\n",
    "# Add intercept to x in this regression\n",
    "total = sm.add_constant(total)\n",
    "alcohol = crashes['alcohol'].to_numpy()\n",
    "model = sm.OLS(alcohol,total)\n",
    "results = model.fit()\n",
    "print(results.summary())"
   ]
  },
  {
   "cell_type": "markdown",
   "id": "fdcbaa9f-e08d-4d69-9355-7070d6c2df40",
   "metadata": {},
   "source": [
    "The equation is $y = -0.7608 + 0.3577x$. The coefficient p-value is 0, so there is a strong correlation between the two and we can reject the null hypothesis. With such a strong correlation between alcohol-related car crashes and total crashes I would recommend greater countermeasures against drunk driving, such as lowering BAC limits."
   ]
  },
  {
   "cell_type": "markdown",
   "id": "c46f8c0e-1f6e-4fa1-9a7d-d3b72a7a03bb",
   "metadata": {},
   "source": [
    "Now let's look at speeding. First, the percentage of crashes where speeding was a factor to the total:"
   ]
  },
  {
   "cell_type": "code",
   "execution_count": 13,
   "id": "51dfe806-4682-469c-a5ca-f486e395ddc2",
   "metadata": {},
   "outputs": [
    {
     "data": {
      "text/plain": [
       "np.float64(0.3165379361728549)"
      ]
     },
     "execution_count": 13,
     "metadata": {},
     "output_type": "execute_result"
    }
   ],
   "source": [
    "crashes['speeding'].sum() / crashes['total'].sum()"
   ]
  },
  {
   "cell_type": "markdown",
   "id": "2fbc8a1d-f89a-4b59-8c37-39bf38db6669",
   "metadata": {},
   "source": [
    "So approximately 32% of crashes were speeding-related."
   ]
  },
  {
   "cell_type": "code",
   "execution_count": 14,
   "id": "49edc52d-a340-4d00-be54-097be8f97836",
   "metadata": {},
   "outputs": [
    {
     "data": {
      "text/plain": [
       "<seaborn.axisgrid.FacetGrid at 0x7f36298c8f50>"
      ]
     },
     "execution_count": 14,
     "metadata": {},
     "output_type": "execute_result"
    },
    {
     "data": {
      "image/png": "[encoded data removed]",
      "text/plain": [
       "<Figure size 500x500 with 1 Axes>"
      ]
     },
     "metadata": {},
     "output_type": "display_data"
    }
   ],
   "source": [
    "sns.displot(x='speeding',data=crashes)"
   ]
  },
  {
   "cell_type": "markdown",
   "id": "ee9b9124-c21b-4de0-93ea-b7498994ec12",
   "metadata": {},
   "source": [
    "Again, almost normal, but let's check normality at 0.05."
   ]
  },
  {
   "cell_type": "code",
   "execution_count": 15,
   "id": "340bfda8-6e62-4fbb-a810-bca574550492",
   "metadata": {},
   "outputs": [
    {
     "data": {
      "text/plain": [
       "NormaltestResult(statistic=np.float64(2.4775714106414783), pvalue=np.float64(0.28973582909172746))"
      ]
     },
     "execution_count": 15,
     "metadata": {},
     "output_type": "execute_result"
    }
   ],
   "source": [
    "speeding = crashes['speeding'].to_numpy()\n",
    "normaltest(speeding)"
   ]
  },
  {
   "cell_type": "markdown",
   "id": "5f343bf9-7da2-42af-893b-3e715fa927ea",
   "metadata": {},
   "source": [
    "p > .05. The null hypothesis holds."
   ]
  },
  {
   "cell_type": "markdown",
   "id": "908a8438-b437-4bb7-a5d5-ca2099bc1122",
   "metadata": {},
   "source": [
    "Let's try a .95 confdidence interval. The sample size is large enough that we can use a normal distribution using the sample sd as an estimate of sigma."
   ]
  },
  {
   "cell_type": "code",
   "execution_count": 16,
   "id": "20ca28a7-2b65-4120-b379-baf700a36ef2",
   "metadata": {},
   "outputs": [
    {
     "data": {
      "text/plain": [
       "(np.float64(1.0824480776985217), np.float64(8.913944079164224))"
      ]
     },
     "execution_count": 16,
     "metadata": {},
     "output_type": "execute_result"
    }
   ],
   "source": [
    "from scipy.stats import norm\n",
    "mean = np.mean(speeding)\n",
    "std = np.std(speeding)\n",
    "norm.interval(.95,loc=mean,scale=std)"
   ]
  },
  {
   "cell_type": "markdown",
   "id": "8487121f-22f8-4edb-a19c-76d4afcf9048",
   "metadata": {},
   "source": [
    "Just for fun, let's compare it to student's T."
   ]
  },
  {
   "cell_type": "code",
   "execution_count": 17,
   "id": "1cac9c41-c678-45c6-9fee-438ea7fc2c66",
   "metadata": {},
   "outputs": [
    {
     "data": {
      "text/plain": [
       "(np.float64(0.9454317741102543), np.float64(9.050960382752491))"
      ]
     },
     "execution_count": 17,
     "metadata": {},
     "output_type": "execute_result"
    }
   ],
   "source": [
    "from scipy.stats import t\n",
    "mean = np.mean(speeding)\n",
    "std = np.std(speeding,ddof=1) #Sample standard deviation\n",
    "df = len(speeding) - 1 #Degrees of freedom\n",
    "t.interval(.95,df=df,loc=mean,scale=std)\n",
    "\n",
    "\n"
   ]
  },
  {
   "cell_type": "markdown",
   "id": "27a8b5e9-88ce-41eb-9c1c-50538be5fabf",
   "metadata": {},
   "source": [
    "There's a small difference between the two."
   ]
  },
  {
   "cell_type": "markdown",
   "id": "1e2032ff-e0af-440d-b640-e62df9330cd9",
   "metadata": {},
   "source": [
    "Let's show a correlation between total accidents and speeding."
   ]
  },
  {
   "cell_type": "code",
   "execution_count": 18,
   "id": "79c24910-f05f-439d-aee9-febc993e843c",
   "metadata": {},
   "outputs": [
    {
     "data": {
      "text/plain": [
       "<seaborn.axisgrid.FacetGrid at 0x7f36297d0b90>"
      ]
     },
     "execution_count": 18,
     "metadata": {},
     "output_type": "execute_result"
    },
    {
     "data": {
      "image/png": "[encoded data removed]",
      "text/plain": [
       "<Figure size 500x500 with 1 Axes>"
      ]
     },
     "metadata": {},
     "output_type": "display_data"
    }
   ],
   "source": [
    "sns.relplot(x='total',y='speeding',data=crashes)"
   ]
  },
  {
   "cell_type": "markdown",
   "id": "bdeccfcb-a0a3-47aa-8ad6-ec4ff5e986da",
   "metadata": {},
   "source": [
    "Another apparent positive linear correlation. Let's plot a regression."
   ]
  },
  {
   "cell_type": "code",
   "execution_count": 19,
   "id": "6f51824c-7a17-4da6-8918-94b2c909f2cd",
   "metadata": {},
   "outputs": [
    {
     "data": {
      "text/plain": [
       "<Axes: xlabel='total', ylabel='speeding'>"
      ]
     },
     "execution_count": 19,
     "metadata": {},
     "output_type": "execute_result"
    },
    {
     "data": {
      "image/png": "[encoded data removed]",
      "text/plain": [
       "<Figure size 640x480 with 1 Axes>"
      ]
     },
     "metadata": {},
     "output_type": "display_data"
    }
   ],
   "source": [
    "sns.regplot(x='total',y='speeding',data=crashes)"
   ]
  },
  {
   "cell_type": "code",
   "execution_count": 20,
   "id": "05ae7fa8-659a-4a54-8424-25876488a433",
   "metadata": {},
   "outputs": [
    {
     "name": "stdout",
     "output_type": "stream",
     "text": [
      "                            OLS Regression Results                            \n",
      "==============================================================================\n",
      "Dep. Variable:                      y   R-squared:                       0.374\n",
      "Model:                            OLS   Adj. R-squared:                  0.361\n",
      "Method:                 Least Squares   F-statistic:                     29.27\n",
      "Date:                Thu, 02 Jan 2025   Prob (F-statistic):           1.87e-06\n",
      "Time:                        14:04:31   Log-Likelihood:                -95.718\n",
      "No. Observations:                  51   AIC:                             195.4\n",
      "Df Residuals:                      49   BIC:                             199.3\n",
      "Df Model:                           1                                         \n",
      "Covariance Type:            nonrobust                                         \n",
      "==============================================================================\n",
      "                 coef    std err          t      P>|t|      [0.025      0.975]\n",
      "------------------------------------------------------------------------------\n",
      "const          0.2713      0.902      0.301      0.765      -1.542       2.085\n",
      "x1             0.2994      0.055      5.411      0.000       0.188       0.411\n",
      "==============================================================================\n",
      "Omnibus:                        0.140   Durbin-Watson:                   1.874\n",
      "Prob(Omnibus):                  0.933   Jarque-Bera (JB):                0.338\n",
      "Skew:                          -0.059   Prob(JB):                        0.844\n",
      "Kurtosis:                       2.619   Cond. No.                         65.4\n",
      "==============================================================================\n",
      "\n",
      "Notes:\n",
      "[1] Standard Errors assume that the covariance matrix of the errors is correctly specified.\n"
     ]
    }
   ],
   "source": [
    "import statsmodels.api as sm\n",
    "total = crashes['total'].to_numpy()\n",
    "# Add intercept to x in this regression\n",
    "total = sm.add_constant(total)\n",
    "speeding = crashes['speeding'].to_numpy()\n",
    "model = sm.OLS(speeding,total)\n",
    "results = model.fit()\n",
    "print(results.summary())"
   ]
  },
  {
   "cell_type": "markdown",
   "id": "0a5bd909-b731-4b9f-9cd5-f05a60abaa1a",
   "metadata": {},
   "source": [
    "Once again, x has a p-value of 0. It's interesting in both cases that p > 0.5 for the intercepts in both regressions. The regression equation is: $$ y = 0.2713 + .2994x $$"
   ]
  },
  {
   "cell_type": "markdown",
   "id": "9923468d-cf84-4760-a36a-1e4f80a8118d",
   "metadata": {},
   "source": [
    "How many drivers who had accidents were distracted?"
   ]
  },
  {
   "cell_type": "code",
   "execution_count": 26,
   "id": "8f4af463-20d1-4d50-9284-3d72a9954cfa",
   "metadata": {},
   "outputs": [
    {
     "data": {
      "text/plain": [
       "np.float64(0.14040481808021832)"
      ]
     },
     "execution_count": 26,
     "metadata": {},
     "output_type": "execute_result"
    }
   ],
   "source": [
    "crashes['not_distracted'].sum() / crashes['total'].sum()\n",
    "1 - _"
   ]
  },
  {
   "cell_type": "markdown",
   "id": "e856de85-7254-440d-b523-450d2ed48ee3",
   "metadata": {},
   "source": [
    "So 14% of drivers were distracted. So the vast majority, approximately 85 percent, weren't."
   ]
  },
  {
   "cell_type": "markdown",
   "id": "915305a1-17c6-47b1-84b0-f2e1a9d37838",
   "metadata": {},
   "source": [
    "How many had previous accidents?"
   ]
  },
  {
   "cell_type": "code",
   "execution_count": 29,
   "id": "043222f7-4f49-41b8-936f-7d04c4ad228b",
   "metadata": {},
   "outputs": [
    {
     "data": {
      "text/plain": [
       "np.float64(91.05099999999982)"
      ]
     },
     "execution_count": 29,
     "metadata": {},
     "output_type": "execute_result"
    }
   ],
   "source": [
    "crashes['total'].sum() - crashes['no_previous'].sum()"
   ]
  },
  {
   "cell_type": "markdown",
   "id": "51dcfac1-c6d6-4ec0-857b-92e30f1d53c6",
   "metadata": {},
   "source": [
    "So 91 people had a previous accident. How much is that of the total?"
   ]
  },
  {
   "cell_type": "code",
   "execution_count": 30,
   "id": "6d55d395-c7dd-4561-af2f-772ca423e6e0",
   "metadata": {},
   "outputs": [
    {
     "data": {
      "text/plain": [
       "np.float64(0.11306469638643964)"
      ]
     },
     "execution_count": 30,
     "metadata": {},
     "output_type": "execute_result"
    }
   ],
   "source": [
    "_ / crashes['total'].sum()"
   ]
  },
  {
   "cell_type": "markdown",
   "id": "e0d3ed92-ded1-406e-8de5-2b07cbbf2791",
   "metadata": {},
   "source": [
    "So approximately 11%. The vast majority of drivers had no previous accidents. I guess there's a first time for everything."
   ]
  },
  {
   "cell_type": "markdown",
   "id": "fe4f0c79-4159-4f8c-bc31-4d35acd6c045",
   "metadata": {},
   "source": [
    "Let's look at insurance premiums vs. losses."
   ]
  },
  {
   "cell_type": "code",
   "execution_count": 31,
   "id": "592717cd-24e7-438d-b363-3292c85f5119",
   "metadata": {},
   "outputs": [
    {
     "data": {
      "text/plain": [
       "<seaborn.axisgrid.FacetGrid at 0x7f36298c8e10>"
      ]
     },
     "execution_count": 31,
     "metadata": {},
     "output_type": "execute_result"
    },
    {
     "data": {
      "image/png": "[encoded data removed]",
      "text/plain": [
       "<Figure size 500x500 with 1 Axes>"
      ]
     },
     "metadata": {},
     "output_type": "display_data"
    }
   ],
   "source": [
    "sns.relplot(x='ins_premium', y='ins_losses',data=crashes)"
   ]
  },
  {
   "cell_type": "markdown",
   "id": "192d15cf-9c18-4fc1-b742-7f614fc9f72c",
   "metadata": {},
   "source": [
    "Another linear correlation, it seems. Let's plot yet another regression line."
   ]
  },
  {
   "cell_type": "code",
   "execution_count": 32,
   "id": "8723679f-2be2-4298-8dce-6f3926272b98",
   "metadata": {},
   "outputs": [
    {
     "data": {
      "text/plain": [
       "<Axes: xlabel='ins_premium', ylabel='ins_losses'>"
      ]
     },
     "execution_count": 32,
     "metadata": {},
     "output_type": "execute_result"
    },
    {
     "data": {
      "image/png": "[encoded data removed]",
      "text/plain": [
       "<Figure size 640x480 with 1 Axes>"
      ]
     },
     "metadata": {},
     "output_type": "display_data"
    }
   ],
   "source": [
    "sns.regplot(x='ins_premium', y='ins_losses',data=crashes)"
   ]
  },
  {
   "cell_type": "markdown",
   "id": "0d62cab2-c3d2-4845-9e6f-20f2f56b19ea",
   "metadata": {},
   "source": [
    "As with the previous regressions, we will test the signifigance at alpha = 0.05"
   ]
  },
  {
   "cell_type": "code",
   "execution_count": 33,
   "id": "33aa0102-1cad-4408-a395-c528a9e643fd",
   "metadata": {},
   "outputs": [
    {
     "name": "stdout",
     "output_type": "stream",
     "text": [
      "                            OLS Regression Results                            \n",
      "==============================================================================\n",
      "Dep. Variable:                      y   R-squared:                       0.388\n",
      "Model:                            OLS   Adj. R-squared:                  0.376\n",
      "Method:                 Least Squares   F-statistic:                     31.10\n",
      "Date:                Thu, 02 Jan 2025   Prob (F-statistic):           1.04e-06\n",
      "Time:                        14:36:27   Log-Likelihood:                -223.16\n",
      "No. Observations:                  51   AIC:                             450.3\n",
      "Df Residuals:                      49   BIC:                             454.2\n",
      "Df Model:                           1                                         \n",
      "Covariance Type:            nonrobust                                         \n",
      "==============================================================================\n",
      "                 coef    std err          t      P>|t|      [0.025      0.975]\n",
      "------------------------------------------------------------------------------\n",
      "const         57.5074     14.075      4.086      0.000      29.222      85.793\n",
      "x1             0.0868      0.016      5.577      0.000       0.056       0.118\n",
      "==============================================================================\n",
      "Omnibus:                        0.865   Durbin-Watson:                   2.245\n",
      "Prob(Omnibus):                  0.649   Jarque-Bera (JB):                0.891\n",
      "Skew:                           0.287   Prob(JB):                        0.640\n",
      "Kurtosis:                       2.700   Cond. No.                     4.63e+03\n",
      "==============================================================================\n",
      "\n",
      "Notes:\n",
      "[1] Standard Errors assume that the covariance matrix of the errors is correctly specified.\n",
      "[2] The condition number is large, 4.63e+03. This might indicate that there are\n",
      "strong multicollinearity or other numerical problems.\n"
     ]
    }
   ],
   "source": [
    "import statsmodels.api as sm\n",
    "premiums = crashes['ins_premium'].to_numpy()\n",
    "# Add intercept to x in this regression\n",
    "premiums = sm.add_constant(premiums)\n",
    "losses = crashes['ins_losses'].to_numpy()\n",
    "model = sm.OLS(losses,premiums)\n",
    "results = model.fit()\n",
    "print(results.summary())"
   ]
  },
  {
   "cell_type": "markdown",
   "id": "6fdc4e46-8251-41ca-aa3c-19f3adc7295a",
   "metadata": {},
   "source": [
    "The R-squared is lower, but the p-values constaqnt and the coefficient are both 0 this time. Again, we reject the null hypothesis and there is a correlation. The regression equation is: $$y = 57.5074 + 0.0868x$$"
   ]
  },
  {
   "cell_type": "markdown",
   "id": "1d418b9d-ab6f-4b9d-a2fb-11bc04342027",
   "metadata": {},
   "source": [
    "Lets look at the distribution of premiums:"
   ]
  },
  {
   "cell_type": "code",
   "execution_count": 35,
   "id": "0df9fc14-3681-45d9-8d66-8b7a1f3eb09a",
   "metadata": {
    "jupyter": {
     "source_hidden": true
    }
   },
   "outputs": [
    {
     "data": {
      "text/plain": [
       "<seaborn.axisgrid.FacetGrid at 0x7f3629515e50>"
      ]
     },
     "execution_count": 35,
     "metadata": {},
     "output_type": "execute_result"
    },
    {
     "data": {
      "image/png": "[encoded data removed]",
      "text/plain": [
       "<Figure size 500x500 with 1 Axes>"
      ]
     },
     "metadata": {},
     "output_type": "display_data"
    }
   ],
   "source": [
    "sns.displot(x='ins_premium',data=crashes)"
   ]
  },
  {
   "cell_type": "markdown",
   "id": "6410f126-953c-440a-9c14-9f249263bcef",
   "metadata": {},
   "source": [
    "Seems very right-tailed. Lets check the skewness:"
   ]
  },
  {
   "cell_type": "code",
   "execution_count": 37,
   "id": "c1929880-d928-430e-b561-5e96ae156652",
   "metadata": {},
   "outputs": [
    {
     "data": {
      "text/plain": [
       "np.float64(0.7557724779257294)"
      ]
     },
     "execution_count": 37,
     "metadata": {},
     "output_type": "execute_result"
    }
   ],
   "source": [
    "from scipy.stats import skew\n",
    "premiums = crashes['ins_premium'].to_numpy()\n",
    "skew(premiums)"
   ]
  },
  {
   "cell_type": "markdown",
   "id": "f62bd465-fabb-41a9-abf9-e82446185b6f",
   "metadata": {},
   "source": [
    "Skewness is greater than 0, which indicates right-tailed distribution, which we could have known by looking at the histogram."
   ]
  },
  {
   "cell_type": "markdown",
   "id": "375ae551-bc77-423d-a051-734d07bbf3fe",
   "metadata": {},
   "source": [
    "Let's plot the histogram for insurance losses."
   ]
  },
  {
   "cell_type": "code",
   "execution_count": 38,
   "id": "d3565c72-2fc1-44c5-b8f5-689b88f63249",
   "metadata": {},
   "outputs": [
    {
     "data": {
      "text/plain": [
       "<seaborn.axisgrid.FacetGrid at 0x7f36278e79d0>"
      ]
     },
     "execution_count": 38,
     "metadata": {},
     "output_type": "execute_result"
    },
    {
     "data": {
      "image/png": "[encoded data removed]",
      "text/plain": [
       "<Figure size 500x500 with 1 Axes>"
      ]
     },
     "metadata": {},
     "output_type": "display_data"
    }
   ],
   "source": [
    "sns.displot(x='ins_losses',data=crashes)"
   ]
  },
  {
   "cell_type": "code",
   "execution_count": 39,
   "id": "c25c5156-79fc-4b6d-abae-be5c6168036a",
   "metadata": {},
   "outputs": [
    {
     "data": {
      "text/plain": [
       "np.float64(0.15923356879999026)"
      ]
     },
     "execution_count": 39,
     "metadata": {},
     "output_type": "execute_result"
    }
   ],
   "source": [
    "from scipy.stats import skew\n",
    "losses = crashes['ins_losses'].to_numpy()\n",
    "skew(losses)"
   ]
  },
  {
   "cell_type": "markdown",
   "id": "26a44591-0d30-4185-8918-b721d33a1898",
   "metadata": {},
   "source": [
    "The skewness is still greater than 0, but not by much."
   ]
  }
 ],
 "metadata": {
  "kernelspec": {
   "display_name": "Python 3 (ipykernel)",
   "language": "python",
   "name": "python3"
  },
  "language_info": {
   "codemirror_mode": {
    "name": "ipython",
    "version": 3
   },
   "file_extension": ".py",
   "mimetype": "text/x-python",
   "name": "python",
   "nbconvert_exporter": "python",
   "pygments_lexer": "ipython3",
   "version": "3.13.0"
  }
 },
 "nbformat": 4,
 "nbformat_minor": 5
}
